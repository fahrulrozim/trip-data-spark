{
 "cells": [
  {
   "cell_type": "code",
   "execution_count": 1,
   "id": "79ad477f",
   "metadata": {},
   "outputs": [],
   "source": [
    "import os\n",
    "import requests\n",
    "import pyspark\n",
    "pyspark.__file__\n",
    "\n",
    "import warnings\n",
    "warnings.filterwarnings(\"ignore\")"
   ]
  },
  {
   "cell_type": "markdown",
   "id": "29258b8f",
   "metadata": {},
   "source": [
    "### Download data using requests"
   ]
  },
  {
   "cell_type": "code",
   "execution_count": 3,
   "id": "8a76d5e4",
   "metadata": {},
   "outputs": [],
   "source": [
    "data_yellow = requests.get('https://d37ci6vzurychx.cloudfront.net/trip-data/yellow_tripdata_2021-02.parquet')\n",
    "data_green = requests.get('https://d37ci6vzurychx.cloudfront.net/trip-data/green_tripdata_2021-02.parquet')\n",
    "data_fhv = requests.get('https://d37ci6vzurychx.cloudfront.net/trip-data/fhv_tripdata_2021-02.parquet')\n",
    "data_hvfhv = requests.get('https://d37ci6vzurychx.cloudfront.net/trip-data/fhvhv_tripdata_2021-02.parquet')"
   ]
  },
  {
   "cell_type": "code",
   "execution_count": 4,
   "id": "ee68d51b",
   "metadata": {},
   "outputs": [],
   "source": [
    "# download yellow trip data\n",
    "with open(os.path.join(os.getcwd(),'yellow_tripdata_2021-02.parquet'), 'wb') as f:\n",
    "    f.write(data_yellow.content)\n",
    "    f.close()"
   ]
  },
  {
   "cell_type": "code",
   "execution_count": 5,
   "id": "682cd6ff",
   "metadata": {},
   "outputs": [],
   "source": [
    "# download green trip data\n",
    "with open(os.path.join(os.getcwd(),'green_tripdata_2021-02.parquet'), 'wb') as f:\n",
    "    f.write(data_green.content)\n",
    "    f.close()"
   ]
  },
  {
   "cell_type": "code",
   "execution_count": 6,
   "id": "5dab52e5",
   "metadata": {},
   "outputs": [],
   "source": [
    "# download fhv trip data\n",
    "with open(os.path.join(os.getcwd(),'fhv_tripdata_2021-02.parquet'), 'wb') as f:\n",
    "    f.write(data_fhv.content)\n",
    "    f.close()"
   ]
  },
  {
   "cell_type": "code",
   "execution_count": 7,
   "id": "e7206c8a",
   "metadata": {},
   "outputs": [],
   "source": [
    "# download hvfhv trip data\n",
    "with open(os.path.join(os.getcwd(),'fhvhv_tripdata_2021-02.parquet'), 'wb') as f:\n",
    "    f.write(data_hvfhv.content)\n",
    "    f.close()"
   ]
  },
  {
   "cell_type": "markdown",
   "id": "84ff055f",
   "metadata": {},
   "source": [
    "### Starting SparkSession"
   ]
  },
  {
   "cell_type": "code",
   "execution_count": 2,
   "id": "10c45579",
   "metadata": {},
   "outputs": [],
   "source": [
    "from pyspark.sql import SparkSession"
   ]
  },
  {
   "cell_type": "code",
   "execution_count": 3,
   "id": "bb620ac7",
   "metadata": {},
   "outputs": [],
   "source": [
    "spark = SparkSession.builder \\\n",
    "    .master(\"local[*]\") \\\n",
    "    .appName('test') \\\n",
    "    .getOrCreate()"
   ]
  },
  {
   "cell_type": "code",
   "execution_count": 4,
   "id": "11233e7d",
   "metadata": {},
   "outputs": [],
   "source": [
    "df_green = spark.read.parquet(os.path.join(os.getcwd(),'green_tripdata_2021-02.parquet'))"
   ]
  },
  {
   "cell_type": "code",
   "execution_count": 5,
   "id": "109a6766",
   "metadata": {},
   "outputs": [],
   "source": [
    "df_green = df_green \\\n",
    "    .withColumnRenamed('lpep_pickup_datetime', 'pickup_datetime') \\\n",
    "    .withColumnRenamed('lpep_dropoff_datetime', 'dropoff_datetime')"
   ]
  },
  {
   "cell_type": "code",
   "execution_count": 6,
   "id": "897bed3e",
   "metadata": {},
   "outputs": [],
   "source": [
    "df_yellow = spark.read.parquet(os.path.join(os.getcwd(), 'yellow_tripdata_2021-02.parquet'))"
   ]
  },
  {
   "cell_type": "code",
   "execution_count": 7,
   "id": "ede16090",
   "metadata": {},
   "outputs": [],
   "source": [
    "df_yellow = df_yellow \\\n",
    "    .withColumnRenamed('tpep_pickup_datetime', 'pickup_datetime') \\\n",
    "    .withColumnRenamed('tpep_dropoff_datetime', 'dropoff_datetime')"
   ]
  },
  {
   "cell_type": "code",
   "execution_count": 8,
   "id": "d5e4d2ab",
   "metadata": {},
   "outputs": [],
   "source": [
    "common_colums = []\n",
    "\n",
    "yellow_columns = set(df_yellow.columns)\n",
    "\n",
    "for col in df_green.columns:\n",
    "    if col in yellow_columns:\n",
    "        common_colums.append(col)"
   ]
  },
  {
   "cell_type": "code",
   "execution_count": 9,
   "id": "1933220a",
   "metadata": {},
   "outputs": [],
   "source": [
    "from pyspark.sql import functions as F"
   ]
  },
  {
   "cell_type": "code",
   "execution_count": 10,
   "id": "1a6d1683",
   "metadata": {},
   "outputs": [],
   "source": [
    "df_green_sel = df_green \\\n",
    "    .select(common_colums) \\\n",
    "    .withColumn('service_type', F.lit('green'))"
   ]
  },
  {
   "cell_type": "code",
   "execution_count": 11,
   "id": "62d13b72",
   "metadata": {},
   "outputs": [],
   "source": [
    "df_yellow_sel = df_yellow \\\n",
    "    .select(common_colums) \\\n",
    "    .withColumn('service_type', F.lit('yellow'))"
   ]
  },
  {
   "cell_type": "code",
   "execution_count": 12,
   "id": "f672608f",
   "metadata": {},
   "outputs": [],
   "source": [
    "df_trips_data = df_green_sel.unionAll(df_yellow_sel)"
   ]
  },
  {
   "cell_type": "code",
   "execution_count": 13,
   "id": "64a1e16a",
   "metadata": {},
   "outputs": [
    {
     "name": "stdout",
     "output_type": "stream",
     "text": [
      "+------------+-------+\n",
      "|service_type|  count|\n",
      "+------------+-------+\n",
      "|       green|  64572|\n",
      "|      yellow|1371709|\n",
      "+------------+-------+\n",
      "\n"
     ]
    }
   ],
   "source": [
    "df_trips_data.groupBy('service_type').count().show()"
   ]
  },
  {
   "cell_type": "code",
   "execution_count": 14,
   "id": "27e8685d",
   "metadata": {},
   "outputs": [
    {
     "data": {
      "text/plain": [
       "['VendorID',\n",
       " 'pickup_datetime',\n",
       " 'dropoff_datetime',\n",
       " 'store_and_fwd_flag',\n",
       " 'RatecodeID',\n",
       " 'PULocationID',\n",
       " 'DOLocationID',\n",
       " 'passenger_count',\n",
       " 'trip_distance',\n",
       " 'fare_amount',\n",
       " 'extra',\n",
       " 'mta_tax',\n",
       " 'tip_amount',\n",
       " 'tolls_amount',\n",
       " 'improvement_surcharge',\n",
       " 'total_amount',\n",
       " 'payment_type',\n",
       " 'congestion_surcharge',\n",
       " 'service_type']"
      ]
     },
     "execution_count": 14,
     "metadata": {},
     "output_type": "execute_result"
    }
   ],
   "source": [
    "df_trips_data.columns"
   ]
  },
  {
   "cell_type": "code",
   "execution_count": 15,
   "id": "0e9daf9d",
   "metadata": {},
   "outputs": [],
   "source": [
    "df_trips_data.registerTempTable('trips_data')"
   ]
  },
  {
   "cell_type": "code",
   "execution_count": 16,
   "id": "85ca7a99",
   "metadata": {},
   "outputs": [
    {
     "name": "stdout",
     "output_type": "stream",
     "text": [
      "+------------+--------+\n",
      "|service_type|count(1)|\n",
      "+------------+--------+\n",
      "|       green|   64572|\n",
      "|      yellow| 1371709|\n",
      "+------------+--------+\n",
      "\n"
     ]
    }
   ],
   "source": [
    "spark.sql(\"\"\"\n",
    "SELECT\n",
    "    service_type,\n",
    "    count(1)\n",
    "FROM\n",
    "    trips_data\n",
    "GROUP BY \n",
    "    service_type\n",
    "\"\"\").show()"
   ]
  },
  {
   "cell_type": "code",
   "execution_count": 17,
   "id": "9ca16e44",
   "metadata": {},
   "outputs": [],
   "source": [
    "df_result = spark.sql(\"\"\"\n",
    "SELECT \n",
    "    -- Reveneue grouping \n",
    "    PULocationID AS revenue_zone,\n",
    "    date_trunc('month', pickup_datetime) AS revenue_month, \n",
    "    service_type, \n",
    "\n",
    "    -- Revenue calculation \n",
    "    SUM(fare_amount) AS revenue_monthly_fare,\n",
    "    SUM(extra) AS revenue_monthly_extra,\n",
    "    SUM(mta_tax) AS revenue_monthly_mta_tax,\n",
    "    SUM(tip_amount) AS revenue_monthly_tip_amount,\n",
    "    SUM(tolls_amount) AS revenue_monthly_tolls_amount,\n",
    "    SUM(improvement_surcharge) AS revenue_monthly_improvement_surcharge,\n",
    "    SUM(total_amount) AS revenue_monthly_total_amount,\n",
    "    SUM(congestion_surcharge) AS revenue_monthly_congestion_surcharge,\n",
    "\n",
    "    -- Additional calculations\n",
    "    AVG(passenger_count) AS avg_montly_passenger_count,\n",
    "    AVG(trip_distance) AS avg_montly_trip_distance\n",
    "FROM\n",
    "    trips_data\n",
    "GROUP BY\n",
    "    1, 2, 3\n",
    "\"\"\")"
   ]
  },
  {
   "cell_type": "code",
   "execution_count": 18,
   "id": "2fdfe210",
   "metadata": {},
   "outputs": [],
   "source": [
    "# df_result.coalesce(1).write.parquet('data/report/revenue/', mode='overwrite')"
   ]
  },
  {
   "cell_type": "markdown",
   "id": "62a0eb3b",
   "metadata": {},
   "source": [
    "#### 1. How many taxi trips were there on February 15?"
   ]
  },
  {
   "cell_type": "code",
   "execution_count": 19,
   "id": "52e6b171",
   "metadata": {},
   "outputs": [],
   "source": [
    "df_green.registerTempTable('trips_data_green')\n",
    "df_yellow.registerTempTable('trips_data_yellow')"
   ]
  },
  {
   "cell_type": "code",
   "execution_count": 20,
   "id": "563bebce",
   "metadata": {},
   "outputs": [
    {
     "name": "stdout",
     "output_type": "stream",
     "text": [
      "+--------+----------+\n",
      "|VendorID|total_trip|\n",
      "+--------+----------+\n",
      "|       1|       450|\n",
      "|       2|      4005|\n",
      "+--------+----------+\n",
      "\n"
     ]
    }
   ],
   "source": [
    "# Green taxi data\n",
    "\n",
    "spark.sql(\"\"\"\n",
    "SELECT\n",
    "    VendorID,\n",
    "    count(1) as total_trip\n",
    "FROM\n",
    "    trips_data_green\n",
    "WHERE\n",
    "    pickup_datetime>='2021-02-15 00:00:00' and pickup_datetime<='2021-02-16 23:59:59'\n",
    "GROUP BY\n",
    "    VendorID\n",
    "\"\"\").show()"
   ]
  },
  {
   "cell_type": "code",
   "execution_count": 21,
   "id": "2d347228",
   "metadata": {},
   "outputs": [
    {
     "name": "stdout",
     "output_type": "stream",
     "text": [
      "+--------+----------+\n",
      "|VendorID|total_trip|\n",
      "+--------+----------+\n",
      "|       6|       314|\n",
      "|       1|     13599|\n",
      "|       2|     29773|\n",
      "+--------+----------+\n",
      "\n"
     ]
    }
   ],
   "source": [
    "# Yellow taxi data\n",
    "\n",
    "spark.sql(\"\"\"\n",
    "SELECT\n",
    "    VendorID,\n",
    "    count(1) as total_trip\n",
    "FROM\n",
    "    trips_data_yellow\n",
    "WHERE\n",
    "    pickup_datetime>='2021-02-15 00:00:00' and pickup_datetime<='2021-02-15 23:59:59'\n",
    "GROUP BY\n",
    "    VendorID\n",
    "\"\"\").show()"
   ]
  },
  {
   "cell_type": "code",
   "execution_count": 22,
   "id": "43e4ce54",
   "metadata": {},
   "outputs": [
    {
     "name": "stdout",
     "output_type": "stream",
     "text": [
      "+------------+----------+\n",
      "|service_type|total_trip|\n",
      "+------------+----------+\n",
      "|       green|      1811|\n",
      "|      yellow|     43686|\n",
      "+------------+----------+\n",
      "\n"
     ]
    }
   ],
   "source": [
    "# yellow and green taxi data\n",
    "\n",
    "spark.sql(\"\"\"\n",
    "SELECT\n",
    "    service_type,\n",
    "    count(1) as total_trip\n",
    "FROM\n",
    "    trips_data\n",
    "WHERE\n",
    "    pickup_datetime>='2021-02-15 00:00:00' and pickup_datetime<='2021-02-15 23:59:59'\n",
    "GROUP BY\n",
    "    service_type\n",
    "\"\"\").show()"
   ]
  },
  {
   "cell_type": "markdown",
   "id": "cb68a061",
   "metadata": {},
   "source": [
    "#### 2. Find the longest trip for each day ?"
   ]
  },
  {
   "cell_type": "code",
   "execution_count": 23,
   "id": "950bf4f0",
   "metadata": {},
   "outputs": [],
   "source": [
    "from pyspark.sql.functions import *"
   ]
  },
  {
   "cell_type": "code",
   "execution_count": 25,
   "id": "fff66670",
   "metadata": {},
   "outputs": [],
   "source": [
    "fixed_date_green = df_green.select(\"*\").withColumn(\"fixed_date\", date_format(\"pickup_datetime\", \"yyyy-MM-dd\"))\n",
    "fixed_date_yellow = df_yellow.select(\"*\").withColumn(\"fixed_date\", date_format(\"pickup_datetime\", \"yyyy-MM-dd\"))\n",
    "fixed_date_agg = df_trips_data.select(\"*\").withColumn(\"fixed_date\", date_format(\"pickup_datetime\", \"yyyy-MM-dd\"))"
   ]
  },
  {
   "cell_type": "code",
   "execution_count": 26,
   "id": "1dc33a44",
   "metadata": {
    "scrolled": true
   },
   "outputs": [],
   "source": [
    "fixed_date_green.registerTempTable('trips_data_green_fixed')\n",
    "fixed_date_yellow.registerTempTable('trips_data_yellow_fixed')\n",
    "fixed_date_agg.registerTempTable('trips_data_agg_fixed')"
   ]
  },
  {
   "cell_type": "code",
   "execution_count": 27,
   "id": "cdef7350",
   "metadata": {},
   "outputs": [
    {
     "name": "stdout",
     "output_type": "stream",
     "text": [
      "+----------+------------+\n",
      "|fixed_date|longest_trip|\n",
      "+----------+------------+\n",
      "|2009-01-01|         0.0|\n",
      "|2021-02-01|       27.52|\n",
      "|2021-02-02|        48.1|\n",
      "|2021-02-03|       36.33|\n",
      "|2021-02-04|   102620.98|\n",
      "|2021-02-05|       36.37|\n",
      "|2021-02-06|       38.75|\n",
      "|2021-02-07|        90.0|\n",
      "|2021-02-08|      5634.0|\n",
      "|2021-02-09|       34.64|\n",
      "|2021-02-10|     60382.7|\n",
      "|2021-02-11|    43174.56|\n",
      "|2021-02-12|    66659.27|\n",
      "|2021-02-13|       47.79|\n",
      "|2021-02-14|       58.03|\n",
      "|2021-02-15|       44.04|\n",
      "|2021-02-16|    16191.56|\n",
      "|2021-02-17|    16240.75|\n",
      "|2021-02-18|    29501.25|\n",
      "|2021-02-19|       34.95|\n",
      "+----------+------------+\n",
      "only showing top 20 rows\n",
      "\n"
     ]
    }
   ],
   "source": [
    "# green taxi data\n",
    "\n",
    "spark.sql(\"\"\"\n",
    "SELECT\n",
    "    fixed_date,\n",
    "    max(trip_distance) as longest_trip\n",
    "FROM\n",
    "    trips_data_green_fixed\n",
    "GROUP BY\n",
    "    fixed_date\n",
    "ORDER BY\n",
    "    fixed_date ASC\n",
    "\"\"\").show()"
   ]
  },
  {
   "cell_type": "code",
   "execution_count": 28,
   "id": "34978b76",
   "metadata": {},
   "outputs": [
    {
     "name": "stdout",
     "output_type": "stream",
     "text": [
      "+----------+------------+\n",
      "|fixed_date|longest_trip|\n",
      "+----------+------------+\n",
      "|2009-01-01|        2.89|\n",
      "|2009-01-02|        0.84|\n",
      "|2021-02-01|       38.89|\n",
      "|2021-02-02|       73.24|\n",
      "|2021-02-03|   186079.73|\n",
      "|2021-02-04|       82.19|\n",
      "|2021-02-05|    91134.16|\n",
      "|2021-02-06|       48.35|\n",
      "|2021-02-07|   186510.67|\n",
      "|2021-02-08|   186617.92|\n",
      "|2021-02-09|    89416.24|\n",
      "|2021-02-10|       99.96|\n",
      "|2021-02-11|        54.4|\n",
      "|2021-02-12|    34346.07|\n",
      "|2021-02-13|    54381.65|\n",
      "|2021-02-14|   115928.92|\n",
      "|2021-02-15|       52.89|\n",
      "|2021-02-16|   221188.25|\n",
      "|2021-02-17|   140145.44|\n",
      "|2021-02-18|       900.0|\n",
      "+----------+------------+\n",
      "only showing top 20 rows\n",
      "\n"
     ]
    }
   ],
   "source": [
    "# yellow taxi data\n",
    "\n",
    "spark.sql(\"\"\"\n",
    "SELECT\n",
    "    fixed_date,\n",
    "    max(trip_distance) as longest_trip\n",
    "FROM\n",
    "    trips_data_yellow_fixed\n",
    "GROUP BY\n",
    "    fixed_date\n",
    "ORDER BY\n",
    "    fixed_date ASC\n",
    "\"\"\").show()"
   ]
  },
  {
   "cell_type": "code",
   "execution_count": 29,
   "id": "78f83de5",
   "metadata": {},
   "outputs": [
    {
     "name": "stdout",
     "output_type": "stream",
     "text": [
      "+----------+------------+\n",
      "|fixed_date|longest_trip|\n",
      "+----------+------------+\n",
      "|2009-01-01|        2.89|\n",
      "|2009-01-02|        0.84|\n",
      "|2021-02-01|       38.89|\n",
      "|2021-02-02|       73.24|\n",
      "|2021-02-03|   186079.73|\n",
      "|2021-02-04|   102620.98|\n",
      "|2021-02-05|    91134.16|\n",
      "|2021-02-06|       48.35|\n",
      "|2021-02-07|   186510.67|\n",
      "|2021-02-08|   186617.92|\n",
      "|2021-02-09|    89416.24|\n",
      "|2021-02-10|     60382.7|\n",
      "|2021-02-11|    43174.56|\n",
      "|2021-02-12|    66659.27|\n",
      "|2021-02-13|    54381.65|\n",
      "|2021-02-14|   115928.92|\n",
      "|2021-02-15|       52.89|\n",
      "|2021-02-16|   221188.25|\n",
      "|2021-02-17|   140145.44|\n",
      "|2021-02-18|    29501.25|\n",
      "+----------+------------+\n",
      "only showing top 20 rows\n",
      "\n"
     ]
    }
   ],
   "source": [
    "# Green and Yellow taxi data\n",
    "\n",
    "spark.sql(\"\"\"\n",
    "SELECT\n",
    "    fixed_date,\n",
    "    max(trip_distance) as longest_trip\n",
    "FROM\n",
    "    trips_data_agg_fixed\n",
    "GROUP BY\n",
    "    fixed_date\n",
    "ORDER BY\n",
    "    fixed_date ASC\n",
    "\"\"\").show()"
   ]
  },
  {
   "cell_type": "markdown",
   "id": "aaa63820",
   "metadata": {},
   "source": [
    "#### 3. Find Top 5 Most frequent `dispatching_base_num` ?"
   ]
  },
  {
   "cell_type": "code",
   "execution_count": 30,
   "id": "5700730f",
   "metadata": {},
   "outputs": [],
   "source": [
    "df_fhv = spark.read.parquet(os.path.join(os.getcwd(),'fhv_tripdata_2021-02.parquet'))"
   ]
  },
  {
   "cell_type": "code",
   "execution_count": 31,
   "id": "503ec3a3",
   "metadata": {},
   "outputs": [],
   "source": [
    "df_fhv.registerTempTable('data_fhv')"
   ]
  },
  {
   "cell_type": "code",
   "execution_count": 32,
   "id": "b599e737",
   "metadata": {},
   "outputs": [
    {
     "name": "stdout",
     "output_type": "stream",
     "text": [
      "+--------------------+-----+\n",
      "|dispatching_base_num|total|\n",
      "+--------------------+-----+\n",
      "|              B00856|35077|\n",
      "|              B01312|33089|\n",
      "|              B01145|31114|\n",
      "|              B02794|30397|\n",
      "|              B03016|29794|\n",
      "+--------------------+-----+\n",
      "\n"
     ]
    }
   ],
   "source": [
    "spark.sql(\"\"\"\n",
    "SELECT \n",
    "    distinct(dispatching_base_num),\n",
    "    count(1) as total\n",
    "FROM\n",
    "    data_fhv\n",
    "GROUP BY\n",
    "    dispatching_base_num\n",
    "ORDER BY\n",
    "    total DESC\n",
    "LIMIT 5\n",
    "\"\"\").show()"
   ]
  },
  {
   "cell_type": "markdown",
   "id": "b4b57337",
   "metadata": {},
   "source": [
    "#### 4. Find Top 5 Most common location pairs (PUlocationID and DOlocationID) ?"
   ]
  },
  {
   "cell_type": "code",
   "execution_count": 33,
   "id": "ea4c6e2c",
   "metadata": {},
   "outputs": [
    {
     "name": "stdout",
     "output_type": "stream",
     "text": [
      "+------------+------------+----------+\n",
      "|PUlocationID|DOlocationID|total_pair|\n",
      "+------------+------------+----------+\n",
      "|          74|          75|       994|\n",
      "|          75|          74|       949|\n",
      "|          74|          74|       651|\n",
      "|          41|          42|       535|\n",
      "|          74|          42|       497|\n",
      "+------------+------------+----------+\n",
      "\n"
     ]
    }
   ],
   "source": [
    "# Green taxi data\n",
    "\n",
    "spark.sql(\"\"\"\n",
    "SELECT\n",
    "    PUlocationID,\n",
    "    DOlocationID,\n",
    "    count(1) as total_pair\n",
    "from\n",
    "    trips_data_green\n",
    "GROUP BY\n",
    "    PUlocationID,\n",
    "    DOlocationID\n",
    "ORDER BY\n",
    "    total_pair DESC\n",
    "LIMIT 5\n",
    "\"\"\").show()"
   ]
  },
  {
   "cell_type": "code",
   "execution_count": 34,
   "id": "876e3262",
   "metadata": {},
   "outputs": [
    {
     "name": "stdout",
     "output_type": "stream",
     "text": [
      "+------------+------------+----------+\n",
      "|PUlocationID|DOlocationID|total_pair|\n",
      "+------------+------------+----------+\n",
      "|         237|         236|     11455|\n",
      "|         236|         237|      9901|\n",
      "|         236|         236|      8819|\n",
      "|         237|         237|      7324|\n",
      "|         264|         264|      5732|\n",
      "+------------+------------+----------+\n",
      "\n"
     ]
    }
   ],
   "source": [
    "# Yellow taxi data\n",
    "\n",
    "spark.sql(\"\"\"\n",
    "SELECT\n",
    "    PUlocationID,\n",
    "    DOlocationID,\n",
    "    count(1) as total_pair\n",
    "from\n",
    "    trips_data_yellow\n",
    "GROUP BY\n",
    "    PUlocationID,\n",
    "    DOlocationID\n",
    "ORDER BY\n",
    "    total_pair DESC\n",
    "LIMIT 5\n",
    "\"\"\").show()"
   ]
  },
  {
   "cell_type": "code",
   "execution_count": 35,
   "id": "e004f247",
   "metadata": {},
   "outputs": [
    {
     "name": "stdout",
     "output_type": "stream",
     "text": [
      "+------------+------------+----------+\n",
      "|PUlocationID|DOlocationID|total_pair|\n",
      "+------------+------------+----------+\n",
      "|         237|         236|     11455|\n",
      "|         236|         237|      9909|\n",
      "|         236|         236|      8844|\n",
      "|         237|         237|      7324|\n",
      "|         264|         264|      5827|\n",
      "+------------+------------+----------+\n",
      "\n"
     ]
    }
   ],
   "source": [
    "# Green and Yellow taxi data\n",
    "\n",
    "spark.sql(\"\"\"\n",
    "SELECT\n",
    "    PUlocationID,\n",
    "    DOlocationID,\n",
    "    count(1) as total_pair\n",
    "from\n",
    "    trips_data\n",
    "GROUP BY\n",
    "    PUlocationID,\n",
    "    DOlocationID\n",
    "ORDER BY\n",
    "    total_pair DESC\n",
    "LIMIT 5\n",
    "\"\"\").show()"
   ]
  },
  {
   "cell_type": "markdown",
   "id": "eb3c5cb6",
   "metadata": {},
   "source": [
    "#### 5. Write all of the result to BigQuery table (additional - point plus)\n",
    "This is not done yet (I'll add it when I already figured it out about Connection to BigQuery"
   ]
  },
  {
   "cell_type": "code",
   "execution_count": 36,
   "id": "2c04d6ee",
   "metadata": {},
   "outputs": [
    {
     "name": "stdout",
     "output_type": "stream",
     "text": [
      "+-----+\n",
      "|count|\n",
      "+-----+\n",
      "| 1811|\n",
      "+-----+\n",
      "\n"
     ]
    }
   ],
   "source": [
    "spark.sql('''\n",
    "select\n",
    "    count(pickup_datetime) as count\n",
    "from trips_data_green\n",
    "where\n",
    "    pickup_datetime >= '2021-02-15' and pickup_datetime < '2021-02-16'\n",
    "''').show()"
   ]
  },
  {
   "cell_type": "code",
   "execution_count": 37,
   "id": "107d03bc",
   "metadata": {},
   "outputs": [],
   "source": [
    "from pyspark.sql import types"
   ]
  },
  {
   "cell_type": "code",
   "execution_count": 38,
   "id": "8cc4b34a",
   "metadata": {},
   "outputs": [],
   "source": [
    "green_schema = types.StructType([\n",
    "    types.StructField(\"VendorID\", types.IntegerType(), True),\n",
    "    types.StructField(\"lpep_pickup_datetime\", types.TimestampType(), True),\n",
    "    types.StructField(\"lpep_dropoff_datetime\", types.TimestampType(), True),\n",
    "    types.StructField(\"store_and_fwd_flag\", types.StringType(), True),\n",
    "    types.StructField(\"RatecodeID\", types.IntegerType(), True),\n",
    "    types.StructField(\"PULocationID\", types.IntegerType(), True),\n",
    "    types.StructField(\"DOLocationID\", types.IntegerType(), True),\n",
    "    types.StructField(\"passenger_count\", types.IntegerType(), True),\n",
    "    types.StructField(\"trip_distance\", types.DoubleType(), True),\n",
    "    types.StructField(\"fare_amount\", types.DoubleType(), True),\n",
    "    types.StructField(\"extra\", types.DoubleType(), True),\n",
    "    types.StructField(\"mta_tax\", types.DoubleType(), True),\n",
    "    types.StructField(\"tip_amount\", types.DoubleType(), True),\n",
    "    types.StructField(\"tolls_amount\", types.DoubleType(), True),\n",
    "    types.StructField(\"ehail_fee\", types.DoubleType(), True),\n",
    "    types.StructField(\"improvement_surcharge\", types.DoubleType(), True),\n",
    "    types.StructField(\"total_amount\", types.DoubleType(), True),\n",
    "    types.StructField(\"payment_type\", types.IntegerType(), True),\n",
    "    types.StructField(\"trip_type\", types.IntegerType(), True),\n",
    "    types.StructField(\"congestion_surcharge\", types.DoubleType(), True)\n",
    "])\n",
    "\n",
    "yellow_schema = types.StructType([\n",
    "    types.StructField(\"VendorID\", types.IntegerType(), True),\n",
    "    types.StructField(\"tpep_pickup_datetime\", types.TimestampType(), True),\n",
    "    types.StructField(\"tpep_dropoff_datetime\", types.TimestampType(), True),\n",
    "    types.StructField(\"passenger_count\", types.IntegerType(), True),\n",
    "    types.StructField(\"trip_distance\", types.DoubleType(), True),\n",
    "    types.StructField(\"RatecodeID\", types.IntegerType(), True),\n",
    "    types.StructField(\"store_and_fwd_flag\", types.StringType(), True),\n",
    "    types.StructField(\"PULocationID\", types.IntegerType(), True),\n",
    "    types.StructField(\"DOLocationID\", types.IntegerType(), True),\n",
    "    types.StructField(\"payment_type\", types.IntegerType(), True),\n",
    "    types.StructField(\"fare_amount\", types.DoubleType(), True),\n",
    "    types.StructField(\"extra\", types.DoubleType(), True),\n",
    "    types.StructField(\"mta_tax\", types.DoubleType(), True),\n",
    "    types.StructField(\"tip_amount\", types.DoubleType(), True),\n",
    "    types.StructField(\"tolls_amount\", types.DoubleType(), True),\n",
    "    types.StructField(\"improvement_surcharge\", types.DoubleType(), True),\n",
    "    types.StructField(\"total_amount\", types.DoubleType(), True),\n",
    "    types.StructField(\"congestion_surcharge\", types.DoubleType(), True)\n",
    "])"
   ]
  },
  {
   "cell_type": "code",
   "execution_count": 39,
   "id": "c96069f6",
   "metadata": {},
   "outputs": [],
   "source": [
    "spark.stop()"
   ]
  },
  {
   "cell_type": "code",
   "execution_count": null,
   "id": "2ae176a9",
   "metadata": {},
   "outputs": [],
   "source": []
  }
 ],
 "metadata": {
  "kernelspec": {
   "display_name": "Python 3",
   "language": "python",
   "name": "python3"
  },
  "language_info": {
   "codemirror_mode": {
    "name": "ipython",
    "version": 3
   },
   "file_extension": ".py",
   "mimetype": "text/x-python",
   "name": "python",
   "nbconvert_exporter": "python",
   "pygments_lexer": "ipython3",
   "version": "3.8.8"
  }
 },
 "nbformat": 4,
 "nbformat_minor": 5
}
